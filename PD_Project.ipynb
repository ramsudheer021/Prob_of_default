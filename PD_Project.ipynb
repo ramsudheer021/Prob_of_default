{
 "cells": [
  {
   "cell_type": "markdown",
   "metadata": {},
   "source": [
    "# Probability of Default - EDA - Ram Sudheer(UOH)"
   ]
  },
  {
   "cell_type": "code",
   "execution_count": 145,
   "metadata": {},
   "outputs": [],
   "source": [
    "#1 -- Load data set \n",
    "\n",
    "import pandas as pd\n",
    "import matplotlib.pyplot as plt\n",
    "import seaborn as sns\n",
    "# Training Data set link -  https://www.kaggle.com/subhamjain/loan-prediction-based-on-customer-behavior\n",
    "loan_consumer_data = pd.read_csv('Training_Data.csv'); # Loading downloaded data set into loan_consumer_data\n",
    "pd.pandas.set_option('display.max_columns',None) # To display all the columns present in the data"
   ]
  },
  {
   "cell_type": "code",
   "execution_count": 72,
   "metadata": {},
   "outputs": [
    {
     "data": {
      "text/html": [
       "<div>\n",
       "<style scoped>\n",
       "    .dataframe tbody tr th:only-of-type {\n",
       "        vertical-align: middle;\n",
       "    }\n",
       "\n",
       "    .dataframe tbody tr th {\n",
       "        vertical-align: top;\n",
       "    }\n",
       "\n",
       "    .dataframe thead th {\n",
       "        text-align: right;\n",
       "    }\n",
       "</style>\n",
       "<table border=\"1\" class=\"dataframe\">\n",
       "  <thead>\n",
       "    <tr style=\"text-align: right;\">\n",
       "      <th></th>\n",
       "      <th>Id</th>\n",
       "      <th>Income</th>\n",
       "      <th>Age</th>\n",
       "      <th>Experience</th>\n",
       "      <th>Married/Single</th>\n",
       "      <th>House_Ownership</th>\n",
       "      <th>Car_Ownership</th>\n",
       "      <th>Profession</th>\n",
       "      <th>CITY</th>\n",
       "      <th>STATE</th>\n",
       "      <th>CURRENT_JOB_YRS</th>\n",
       "      <th>CURRENT_HOUSE_YRS</th>\n",
       "      <th>Risk_Flag</th>\n",
       "    </tr>\n",
       "  </thead>\n",
       "  <tbody>\n",
       "    <tr>\n",
       "      <th>0</th>\n",
       "      <td>1</td>\n",
       "      <td>1303834</td>\n",
       "      <td>23</td>\n",
       "      <td>3</td>\n",
       "      <td>single</td>\n",
       "      <td>rented</td>\n",
       "      <td>no</td>\n",
       "      <td>Mechanical_engineer</td>\n",
       "      <td>Rewa</td>\n",
       "      <td>Madhya_Pradesh</td>\n",
       "      <td>3</td>\n",
       "      <td>13</td>\n",
       "      <td>0</td>\n",
       "    </tr>\n",
       "    <tr>\n",
       "      <th>1</th>\n",
       "      <td>2</td>\n",
       "      <td>7574516</td>\n",
       "      <td>40</td>\n",
       "      <td>10</td>\n",
       "      <td>single</td>\n",
       "      <td>rented</td>\n",
       "      <td>no</td>\n",
       "      <td>Software_Developer</td>\n",
       "      <td>Parbhani</td>\n",
       "      <td>Maharashtra</td>\n",
       "      <td>9</td>\n",
       "      <td>13</td>\n",
       "      <td>0</td>\n",
       "    </tr>\n",
       "    <tr>\n",
       "      <th>2</th>\n",
       "      <td>3</td>\n",
       "      <td>3991815</td>\n",
       "      <td>66</td>\n",
       "      <td>4</td>\n",
       "      <td>married</td>\n",
       "      <td>rented</td>\n",
       "      <td>no</td>\n",
       "      <td>Technical_writer</td>\n",
       "      <td>Alappuzha</td>\n",
       "      <td>Kerala</td>\n",
       "      <td>4</td>\n",
       "      <td>10</td>\n",
       "      <td>0</td>\n",
       "    </tr>\n",
       "    <tr>\n",
       "      <th>3</th>\n",
       "      <td>4</td>\n",
       "      <td>6256451</td>\n",
       "      <td>41</td>\n",
       "      <td>2</td>\n",
       "      <td>single</td>\n",
       "      <td>rented</td>\n",
       "      <td>yes</td>\n",
       "      <td>Software_Developer</td>\n",
       "      <td>Bhubaneswar</td>\n",
       "      <td>Odisha</td>\n",
       "      <td>2</td>\n",
       "      <td>12</td>\n",
       "      <td>1</td>\n",
       "    </tr>\n",
       "    <tr>\n",
       "      <th>4</th>\n",
       "      <td>5</td>\n",
       "      <td>5768871</td>\n",
       "      <td>47</td>\n",
       "      <td>11</td>\n",
       "      <td>single</td>\n",
       "      <td>rented</td>\n",
       "      <td>no</td>\n",
       "      <td>Civil_servant</td>\n",
       "      <td>Tiruchirappalli[10]</td>\n",
       "      <td>Tamil_Nadu</td>\n",
       "      <td>3</td>\n",
       "      <td>14</td>\n",
       "      <td>1</td>\n",
       "    </tr>\n",
       "  </tbody>\n",
       "</table>\n",
       "</div>"
      ],
      "text/plain": [
       "   Id   Income  Age  Experience Married/Single House_Ownership Car_Ownership  \\\n",
       "0   1  1303834   23           3         single          rented            no   \n",
       "1   2  7574516   40          10         single          rented            no   \n",
       "2   3  3991815   66           4        married          rented            no   \n",
       "3   4  6256451   41           2         single          rented           yes   \n",
       "4   5  5768871   47          11         single          rented            no   \n",
       "\n",
       "            Profession                 CITY           STATE  CURRENT_JOB_YRS  \\\n",
       "0  Mechanical_engineer                 Rewa  Madhya_Pradesh                3   \n",
       "1   Software_Developer             Parbhani     Maharashtra                9   \n",
       "2     Technical_writer            Alappuzha          Kerala                4   \n",
       "3   Software_Developer          Bhubaneswar          Odisha                2   \n",
       "4        Civil_servant  Tiruchirappalli[10]      Tamil_Nadu                3   \n",
       "\n",
       "   CURRENT_HOUSE_YRS  Risk_Flag  \n",
       "0                 13          0  \n",
       "1                 13          0  \n",
       "2                 10          0  \n",
       "3                 12          1  \n",
       "4                 14          1  "
      ]
     },
     "execution_count": 72,
     "metadata": {},
     "output_type": "execute_result"
    }
   ],
   "source": [
    "#2 -- sample records\n",
    "\n",
    "loan_consumer_data.head()  # Sample records"
   ]
  },
  {
   "cell_type": "code",
   "execution_count": 73,
   "metadata": {},
   "outputs": [
    {
     "name": "stdout",
     "output_type": "stream",
     "text": [
      "<class 'pandas.core.frame.DataFrame'>\n",
      "RangeIndex: 252000 entries, 0 to 251999\n",
      "Data columns (total 13 columns):\n",
      " #   Column             Non-Null Count   Dtype \n",
      "---  ------             --------------   ----- \n",
      " 0   Id                 252000 non-null  int64 \n",
      " 1   Income             252000 non-null  int64 \n",
      " 2   Age                252000 non-null  int64 \n",
      " 3   Experience         252000 non-null  int64 \n",
      " 4   Married/Single     252000 non-null  object\n",
      " 5   House_Ownership    252000 non-null  object\n",
      " 6   Car_Ownership      252000 non-null  object\n",
      " 7   Profession         252000 non-null  object\n",
      " 8   CITY               252000 non-null  object\n",
      " 9   STATE              252000 non-null  object\n",
      " 10  CURRENT_JOB_YRS    252000 non-null  int64 \n",
      " 11  CURRENT_HOUSE_YRS  252000 non-null  int64 \n",
      " 12  Risk_Flag          252000 non-null  int64 \n",
      "dtypes: int64(7), object(6)\n",
      "memory usage: 25.0+ MB\n"
     ]
    }
   ],
   "source": [
    "#3 -- Check data types and Null count details of consumer data\n",
    "loan_consumer_data.info()"
   ]
  },
  {
   "cell_type": "code",
   "execution_count": 74,
   "metadata": {
    "scrolled": true
   },
   "outputs": [
    {
     "name": "stdout",
     "output_type": "stream",
     "text": [
      "Duplicate Rows :\n",
      "Empty DataFrame\n",
      "Columns: [Id, Income, Age, Experience, Married/Single, House_Ownership, Car_Ownership, Profession, CITY, STATE, CURRENT_JOB_YRS, CURRENT_HOUSE_YRS, Risk_Flag]\n",
      "Index: []\n"
     ]
    }
   ],
   "source": [
    "#4 -- Check if any duplicates present in the data\n",
    "\n",
    "check_duplicate = loan_consumer_data[loan_consumer_data.duplicated()]\n",
    "  \n",
    "print(\"Duplicate Rows :\")\n",
    "  \n",
    "# Print the resultant Dataframe\n",
    "print(check_duplicate)"
   ]
  },
  {
   "cell_type": "markdown",
   "metadata": {},
   "source": [
    "# From #3 and #4 above, there are no missing or duplicate values in the consumer loan dataset"
   ]
  },
  {
   "cell_type": "code",
   "execution_count": 75,
   "metadata": {},
   "outputs": [
    {
     "data": {
      "text/plain": [
       "Id                   252000\n",
       "Income                41920\n",
       "Age                      59\n",
       "Experience               21\n",
       "Married/Single            2\n",
       "House_Ownership           3\n",
       "Car_Ownership             2\n",
       "Profession               51\n",
       "CITY                    317\n",
       "STATE                    29\n",
       "CURRENT_JOB_YRS          15\n",
       "CURRENT_HOUSE_YRS         5\n",
       "Risk_Flag                 2\n",
       "dtype: int64"
      ]
     },
     "execution_count": 75,
     "metadata": {},
     "output_type": "execute_result"
    }
   ],
   "source": [
    "#5 -- Check the unique values. especially for categorical fields\n",
    "loan_consumer_data.nunique()"
   ]
  },
  {
   "cell_type": "code",
   "execution_count": 76,
   "metadata": {},
   "outputs": [
    {
     "name": "stdout",
     "output_type": "stream",
     "text": [
      "['rented' 'norent_noown' 'owned']\n"
     ]
    }
   ],
   "source": [
    "#6 -- House_Ownership has 3 unique values instead of assumed two \n",
    "print(loan_consumer_data['House_Ownership'].unique())"
   ]
  },
  {
   "cell_type": "code",
   "execution_count": 77,
   "metadata": {},
   "outputs": [],
   "source": [
    "#7 -- Dropping column \"Id\", which is just a running sl.no from the dataset\n",
    "loan_consumer_data1 = loan_consumer_data.drop(['Id'], axis=1)"
   ]
  },
  {
   "cell_type": "code",
   "execution_count": 78,
   "metadata": {},
   "outputs": [
    {
     "data": {
      "text/html": [
       "<div>\n",
       "<style scoped>\n",
       "    .dataframe tbody tr th:only-of-type {\n",
       "        vertical-align: middle;\n",
       "    }\n",
       "\n",
       "    .dataframe tbody tr th {\n",
       "        vertical-align: top;\n",
       "    }\n",
       "\n",
       "    .dataframe thead th {\n",
       "        text-align: right;\n",
       "    }\n",
       "</style>\n",
       "<table border=\"1\" class=\"dataframe\">\n",
       "  <thead>\n",
       "    <tr style=\"text-align: right;\">\n",
       "      <th></th>\n",
       "      <th>Income</th>\n",
       "      <th>Age</th>\n",
       "      <th>Experience</th>\n",
       "      <th>CURRENT_JOB_YRS</th>\n",
       "      <th>CURRENT_HOUSE_YRS</th>\n",
       "      <th>Risk_Flag</th>\n",
       "    </tr>\n",
       "  </thead>\n",
       "  <tbody>\n",
       "    <tr>\n",
       "      <th>count</th>\n",
       "      <td>252000.00</td>\n",
       "      <td>252000.00</td>\n",
       "      <td>252000.00</td>\n",
       "      <td>252000.00</td>\n",
       "      <td>252000.00</td>\n",
       "      <td>252000.00</td>\n",
       "    </tr>\n",
       "    <tr>\n",
       "      <th>mean</th>\n",
       "      <td>4997116.67</td>\n",
       "      <td>49.95</td>\n",
       "      <td>10.08</td>\n",
       "      <td>6.33</td>\n",
       "      <td>12.00</td>\n",
       "      <td>0.12</td>\n",
       "    </tr>\n",
       "    <tr>\n",
       "      <th>std</th>\n",
       "      <td>2878311.01</td>\n",
       "      <td>17.06</td>\n",
       "      <td>6.00</td>\n",
       "      <td>3.65</td>\n",
       "      <td>1.40</td>\n",
       "      <td>0.33</td>\n",
       "    </tr>\n",
       "    <tr>\n",
       "      <th>min</th>\n",
       "      <td>10310.00</td>\n",
       "      <td>21.00</td>\n",
       "      <td>0.00</td>\n",
       "      <td>0.00</td>\n",
       "      <td>10.00</td>\n",
       "      <td>0.00</td>\n",
       "    </tr>\n",
       "    <tr>\n",
       "      <th>25%</th>\n",
       "      <td>2503015.00</td>\n",
       "      <td>35.00</td>\n",
       "      <td>5.00</td>\n",
       "      <td>3.00</td>\n",
       "      <td>11.00</td>\n",
       "      <td>0.00</td>\n",
       "    </tr>\n",
       "    <tr>\n",
       "      <th>50%</th>\n",
       "      <td>5000694.50</td>\n",
       "      <td>50.00</td>\n",
       "      <td>10.00</td>\n",
       "      <td>6.00</td>\n",
       "      <td>12.00</td>\n",
       "      <td>0.00</td>\n",
       "    </tr>\n",
       "    <tr>\n",
       "      <th>75%</th>\n",
       "      <td>7477502.00</td>\n",
       "      <td>65.00</td>\n",
       "      <td>15.00</td>\n",
       "      <td>9.00</td>\n",
       "      <td>13.00</td>\n",
       "      <td>0.00</td>\n",
       "    </tr>\n",
       "    <tr>\n",
       "      <th>max</th>\n",
       "      <td>9999938.00</td>\n",
       "      <td>79.00</td>\n",
       "      <td>20.00</td>\n",
       "      <td>14.00</td>\n",
       "      <td>14.00</td>\n",
       "      <td>1.00</td>\n",
       "    </tr>\n",
       "  </tbody>\n",
       "</table>\n",
       "</div>"
      ],
      "text/plain": [
       "           Income        Age Experience CURRENT_JOB_YRS CURRENT_HOUSE_YRS  \\\n",
       "count   252000.00  252000.00  252000.00       252000.00         252000.00   \n",
       "mean   4997116.67      49.95      10.08            6.33             12.00   \n",
       "std    2878311.01      17.06       6.00            3.65              1.40   \n",
       "min      10310.00      21.00       0.00            0.00             10.00   \n",
       "25%    2503015.00      35.00       5.00            3.00             11.00   \n",
       "50%    5000694.50      50.00      10.00            6.00             12.00   \n",
       "75%    7477502.00      65.00      15.00            9.00             13.00   \n",
       "max    9999938.00      79.00      20.00           14.00             14.00   \n",
       "\n",
       "       Risk_Flag  \n",
       "count  252000.00  \n",
       "mean        0.12  \n",
       "std         0.33  \n",
       "min         0.00  \n",
       "25%         0.00  \n",
       "50%         0.00  \n",
       "75%         0.00  \n",
       "max         1.00  "
      ]
     },
     "execution_count": 78,
     "metadata": {},
     "output_type": "execute_result"
    }
   ],
   "source": [
    "#8 -- descriptive statistics of the Loan data set \n",
    "loan_consumer_data1.describe().apply(lambda s: s.apply('{0:.2f}'.format))  #Suppressing scientific notation in Numeric variables"
   ]
  },
  {
   "cell_type": "code",
   "execution_count": 79,
   "metadata": {},
   "outputs": [
    {
     "name": "stdout",
     "output_type": "stream",
     "text": [
      "   Risk_Flag  Frequency  Percent  Cumulative Frequency  Cumulative Percent\n",
      "0          0     221004     87.7                221004                87.7\n",
      "1          1      30996     12.3                252000               100.0\n"
     ]
    }
   ],
   "source": [
    "#9 -- Analysing Target Variable(Risk_Flag) stats\n",
    "datax= loan_consumer_data1[\"Risk_Flag\"].value_counts().sort_index()\n",
    "datay = pd.DataFrame({\n",
    "\"Risk_Flag\": datax.index,\n",
    "\"Frequency\": datax.values,\n",
    "\"Percent\": ((datax.values/datax.values.sum())*100).round(2),\n",
    "\"Cumulative Frequency\": datax.values.cumsum(),\n",
    "\"Cumulative Percent\": ((datax.values.cumsum()/datax.values.sum())*100).round(2)\n",
    "})\n",
    "print(datay)"
   ]
  },
  {
   "cell_type": "code",
   "execution_count": 80,
   "metadata": {},
   "outputs": [
    {
     "data": {
      "image/png": "[encoded data removed]",
      "text/plain": [
       "<Figure size 432x288 with 2 Axes>"
      ]
     },
     "metadata": {
      "needs_background": "light"
     },
     "output_type": "display_data"
    },
    {
     "name": "stdout",
     "output_type": "stream",
     "text": [
      "Note - CURRENT_JOB_YRS and Experience have high corelation which of less significance\n"
     ]
    }
   ],
   "source": [
    "#10 -- Checking if any corelation variables exist\n",
    "corelation = loan_consumer_data1.corr()\n",
    "sns.heatmap(corelation, xticklabels=corelation.columns, yticklabels=corelation.columns, annot=True)\n",
    "plt.show()\n",
    "print('Note - CURRENT_JOB_YRS and Experience have high corelation which of less significance')"
   ]
  },
  {
   "cell_type": "code",
   "execution_count": 81,
   "metadata": {},
   "outputs": [
    {
     "data": {
      "image/png": "[encoded data removed]",
      "text/plain": [
       "<Figure size 432x288 with 1 Axes>"
      ]
     },
     "metadata": {
      "needs_background": "light"
     },
     "output_type": "display_data"
    },
    {
     "data": {
      "image/png": "[encoded data removed]",
      "text/plain": [
       "<Figure size 432x288 with 1 Axes>"
      ]
     },
     "metadata": {
      "needs_background": "light"
     },
     "output_type": "display_data"
    },
    {
     "name": "stdout",
     "output_type": "stream",
     "text": [
      "Note - Both Age and Income are uniformly distruibuted\n"
     ]
    }
   ],
   "source": [
    "#11 - Analysing Income and Age distribution of data\n",
    "sns.histplot(loan_consumer_data1['Income'])\n",
    "plt.show()\n",
    "sns.histplot(loan_consumer_data1['Age'],bins=8)\n",
    "plt.show()\n",
    "print('Note - Both Age and Income are uniformly distruibuted')"
   ]
  },
  {
   "cell_type": "code",
   "execution_count": 82,
   "metadata": {},
   "outputs": [
    {
     "data": {
      "image/png": "[encoded data removed]",
      "text/plain": [
       "<Figure size 432x288 with 1 Axes>"
      ]
     },
     "metadata": {
      "needs_background": "light"
     },
     "output_type": "display_data"
    },
    {
     "data": {
      "image/png": "[encoded data removed]",
      "text/plain": [
       "<Figure size 432x288 with 1 Axes>"
      ]
     },
     "metadata": {
      "needs_background": "light"
     },
     "output_type": "display_data"
    },
    {
     "data": {
      "image/png": "[encoded data removed]",
      "text/plain": [
       "<Figure size 432x288 with 1 Axes>"
      ]
     },
     "metadata": {
      "needs_background": "light"
     },
     "output_type": "display_data"
    },
    {
     "name": "stdout",
     "output_type": "stream",
     "text": [
      "Findings\n",
      "1. Marital status with single observations way higher than married\n",
      "2. House Ownership is rented for more than 95% of the observations\n",
      "3. People who owned the car are less than People who dont have the car\n"
     ]
    }
   ],
   "source": [
    "#12 - Plotting categorical variables - univariate analysis\n",
    "for col in loan_consumer_data1.select_dtypes(include='object'):\n",
    "    if loan_consumer_data1[col].nunique() <= 10:\n",
    "        sns.countplot(y=col, data=loan_consumer_data1)\n",
    "        plt.show()\n",
    "print('Findings')        \n",
    "print('1. Marital status with single observations way higher than married')\n",
    "print('2. House Ownership is rented for more than 95% of the observations')\n",
    "print('3. People who owned the car are less than People who dont have the car')"
   ]
  },
  {
   "cell_type": "code",
   "execution_count": 83,
   "metadata": {},
   "outputs": [
    {
     "data": {
      "image/png": "[encoded data removed]",
      "text/plain": [
       "<Figure size 432x288 with 1 Axes>"
      ]
     },
     "metadata": {
      "needs_background": "light"
     },
     "output_type": "display_data"
    },
    {
     "data": {
      "image/png": "[encoded data removed]",
      "text/plain": [
       "<Figure size 432x288 with 1 Axes>"
      ]
     },
     "metadata": {
      "needs_background": "light"
     },
     "output_type": "display_data"
    },
    {
     "data": {
      "image/png": "[encoded data removed]",
      "text/plain": [
       "<Figure size 432x288 with 1 Axes>"
      ]
     },
     "metadata": {
      "needs_background": "light"
     },
     "output_type": "display_data"
    },
    {
     "data": {
      "image/png": "[encoded data removed]",
      "text/plain": [
       "<Figure size 1440x576 with 1 Axes>"
      ]
     },
     "metadata": {
      "needs_background": "light"
     },
     "output_type": "display_data"
    },
    {
     "name": "stdout",
     "output_type": "stream",
     "text": [
      "Findings - There are no significant variables determining the Risk Flag status \n"
     ]
    }
   ],
   "source": [
    "#13 - Bi-variate analysis with target variable in context\n",
    "for col in loan_consumer_data1.select_dtypes(include='object'):\n",
    "    if loan_consumer_data1[col].nunique() <=10:\n",
    "        sns.countplot(x=loan_consumer_data1[col],hue=\"Risk_Flag\",data=loan_consumer_data1)\n",
    "        plt.show()\n",
    "plt.figure(figsize=(20,8))\n",
    "ax = sns.countplot(x=\"STATE\", hue=\"Risk_Flag\", data=loan_consumer_data1)\n",
    "ax.set_xticklabels(ax.get_xticklabels(), rotation=40, ha=\"right\")\n",
    "plt.show()\n",
    "\n",
    "print('Findings - There are no significant variables determining the Risk Flag status ')"
   ]
  },
  {
   "cell_type": "code",
   "execution_count": 84,
   "metadata": {},
   "outputs": [
    {
     "data": {
      "image/png": "[encoded data removed]",
      "text/plain": [
       "<Figure size 432x288 with 1 Axes>"
      ]
     },
     "metadata": {
      "needs_background": "light"
     },
     "output_type": "display_data"
    },
    {
     "data": {
      "image/png": "[encoded data removed]",
      "text/plain": [
       "<Figure size 432x288 with 1 Axes>"
      ]
     },
     "metadata": {
      "needs_background": "light"
     },
     "output_type": "display_data"
    },
    {
     "data": {
      "image/png": "[encoded data removed]",
      "text/plain": [
       "<Figure size 432x288 with 1 Axes>"
      ]
     },
     "metadata": {
      "needs_background": "light"
     },
     "output_type": "display_data"
    },
    {
     "data": {
      "image/png": "[encoded data removed]",
      "text/plain": [
       "<Figure size 432x288 with 1 Axes>"
      ]
     },
     "metadata": {
      "needs_background": "light"
     },
     "output_type": "display_data"
    },
    {
     "data": {
      "image/png": "[encoded data removed]",
      "text/plain": [
       "<Figure size 432x288 with 1 Axes>"
      ]
     },
     "metadata": {
      "needs_background": "light"
     },
     "output_type": "display_data"
    }
   ],
   "source": [
    "#14 --Further Analysis\n",
    "\n",
    "sns.violinplot(x='Risk_Flag',y='Income', data=loan_consumer_data1)\n",
    "plt.show()\n",
    "sns.violinplot(x='Risk_Flag',y='Married/Single', data=loan_consumer_data1)\n",
    "plt.show()\n",
    "sns.violinplot(x='Risk_Flag',y='Age', data=loan_consumer_data1)\n",
    "plt.show()\n",
    "sns.violinplot(x='Risk_Flag',y='House_Ownership', data=loan_consumer_data1)\n",
    "plt.show()\n",
    "\n",
    "sns.violinplot(x='Risk_Flag',y='Car_Ownership', data=loan_consumer_data1)\n",
    "plt.show()"
   ]
  },
  {
   "cell_type": "code",
   "execution_count": 85,
   "metadata": {
    "scrolled": true
   },
   "outputs": [
    {
     "data": {
      "text/html": [
       "<div>\n",
       "<style scoped>\n",
       "    .dataframe tbody tr th:only-of-type {\n",
       "        vertical-align: middle;\n",
       "    }\n",
       "\n",
       "    .dataframe tbody tr th {\n",
       "        vertical-align: top;\n",
       "    }\n",
       "\n",
       "    .dataframe thead th {\n",
       "        text-align: right;\n",
       "    }\n",
       "</style>\n",
       "<table border=\"1\" class=\"dataframe\">\n",
       "  <thead>\n",
       "    <tr style=\"text-align: right;\">\n",
       "      <th></th>\n",
       "      <th>Id</th>\n",
       "      <th>Income</th>\n",
       "      <th>Age</th>\n",
       "      <th>Experience</th>\n",
       "      <th>Married/Single</th>\n",
       "      <th>House_Ownership</th>\n",
       "      <th>Car_Ownership</th>\n",
       "      <th>Profession</th>\n",
       "      <th>CITY</th>\n",
       "      <th>STATE</th>\n",
       "      <th>CURRENT_JOB_YRS</th>\n",
       "      <th>CURRENT_HOUSE_YRS</th>\n",
       "      <th>Risk_Flag</th>\n",
       "    </tr>\n",
       "  </thead>\n",
       "  <tbody>\n",
       "    <tr>\n",
       "      <th>0</th>\n",
       "      <td>1</td>\n",
       "      <td>1303834</td>\n",
       "      <td>23</td>\n",
       "      <td>3</td>\n",
       "      <td>single</td>\n",
       "      <td>rented</td>\n",
       "      <td>no</td>\n",
       "      <td>Mechanical_engineer</td>\n",
       "      <td>Rewa</td>\n",
       "      <td>Madhya_Pradesh</td>\n",
       "      <td>3</td>\n",
       "      <td>13</td>\n",
       "      <td>0</td>\n",
       "    </tr>\n",
       "    <tr>\n",
       "      <th>1</th>\n",
       "      <td>2</td>\n",
       "      <td>7574516</td>\n",
       "      <td>40</td>\n",
       "      <td>10</td>\n",
       "      <td>single</td>\n",
       "      <td>rented</td>\n",
       "      <td>no</td>\n",
       "      <td>Software_Developer</td>\n",
       "      <td>Parbhani</td>\n",
       "      <td>Maharashtra</td>\n",
       "      <td>9</td>\n",
       "      <td>13</td>\n",
       "      <td>0</td>\n",
       "    </tr>\n",
       "    <tr>\n",
       "      <th>2</th>\n",
       "      <td>3</td>\n",
       "      <td>3991815</td>\n",
       "      <td>66</td>\n",
       "      <td>4</td>\n",
       "      <td>married</td>\n",
       "      <td>rented</td>\n",
       "      <td>no</td>\n",
       "      <td>Technical_writer</td>\n",
       "      <td>Alappuzha</td>\n",
       "      <td>Kerala</td>\n",
       "      <td>4</td>\n",
       "      <td>10</td>\n",
       "      <td>0</td>\n",
       "    </tr>\n",
       "    <tr>\n",
       "      <th>3</th>\n",
       "      <td>4</td>\n",
       "      <td>6256451</td>\n",
       "      <td>41</td>\n",
       "      <td>2</td>\n",
       "      <td>single</td>\n",
       "      <td>rented</td>\n",
       "      <td>yes</td>\n",
       "      <td>Software_Developer</td>\n",
       "      <td>Bhubaneswar</td>\n",
       "      <td>Odisha</td>\n",
       "      <td>2</td>\n",
       "      <td>12</td>\n",
       "      <td>1</td>\n",
       "    </tr>\n",
       "    <tr>\n",
       "      <th>4</th>\n",
       "      <td>5</td>\n",
       "      <td>5768871</td>\n",
       "      <td>47</td>\n",
       "      <td>11</td>\n",
       "      <td>single</td>\n",
       "      <td>rented</td>\n",
       "      <td>no</td>\n",
       "      <td>Civil_servant</td>\n",
       "      <td>Tiruchirappalli[10]</td>\n",
       "      <td>Tamil_Nadu</td>\n",
       "      <td>3</td>\n",
       "      <td>14</td>\n",
       "      <td>1</td>\n",
       "    </tr>\n",
       "  </tbody>\n",
       "</table>\n",
       "</div>"
      ],
      "text/plain": [
       "   Id   Income  Age  Experience Married/Single House_Ownership Car_Ownership  \\\n",
       "0   1  1303834   23           3         single          rented            no   \n",
       "1   2  7574516   40          10         single          rented            no   \n",
       "2   3  3991815   66           4        married          rented            no   \n",
       "3   4  6256451   41           2         single          rented           yes   \n",
       "4   5  5768871   47          11         single          rented            no   \n",
       "\n",
       "            Profession                 CITY           STATE  CURRENT_JOB_YRS  \\\n",
       "0  Mechanical_engineer                 Rewa  Madhya_Pradesh                3   \n",
       "1   Software_Developer             Parbhani     Maharashtra                9   \n",
       "2     Technical_writer            Alappuzha          Kerala                4   \n",
       "3   Software_Developer          Bhubaneswar          Odisha                2   \n",
       "4        Civil_servant  Tiruchirappalli[10]      Tamil_Nadu                3   \n",
       "\n",
       "   CURRENT_HOUSE_YRS  Risk_Flag  \n",
       "0                 13          0  \n",
       "1                 13          0  \n",
       "2                 10          0  \n",
       "3                 12          1  \n",
       "4                 14          1  "
      ]
     },
     "execution_count": 85,
     "metadata": {},
     "output_type": "execute_result"
    }
   ],
   "source": [
    "loan_consumer_data.head()"
   ]
  },
  {
   "cell_type": "markdown",
   "metadata": {},
   "source": [
    "# Data Preparation"
   ]
  },
  {
   "cell_type": "code",
   "execution_count": 86,
   "metadata": {},
   "outputs": [
    {
     "data": {
      "text/plain": [
       "Risk_Flag\n",
       "0    221004\n",
       "1     30996\n",
       "dtype: int64"
      ]
     },
     "execution_count": 86,
     "metadata": {},
     "output_type": "execute_result"
    }
   ],
   "source": [
    "loan_consumer_data.value_counts('Risk_Flag')"
   ]
  },
  {
   "cell_type": "code",
   "execution_count": 148,
   "metadata": {},
   "outputs": [
    {
     "data": {
      "text/plain": [
       "array(['Madhya_Pradesh', 'Maharashtra', 'Kerala', 'Odisha', 'Tamil_Nadu',\n",
       "       'Gujarat', 'Rajasthan', 'Telangana', 'Bihar', 'Andhra_Pradesh',\n",
       "       'West_Bengal', 'Haryana', 'Puducherry', 'Karnataka',\n",
       "       'Uttar_Pradesh', 'Himachal_Pradesh', 'Punjab', 'Tripura',\n",
       "       'Uttarakhand', 'Jharkhand', 'Mizoram', 'Assam',\n",
       "       'Jammu_and_Kashmir', 'Delhi', 'Chhattisgarh', 'Chandigarh',\n",
       "       'Uttar_Pradesh[5]', 'Manipur', 'Sikkim'], dtype=object)"
      ]
     },
     "execution_count": 148,
     "metadata": {},
     "output_type": "execute_result"
    }
   ],
   "source": [
    "loan_consumer_data['STATE'].unique()"
   ]
  },
  {
   "cell_type": "markdown",
   "metadata": {},
   "source": [
    "# Categorise / Grouping Variables"
   ]
  },
  {
   "cell_type": "code",
   "execution_count": 87,
   "metadata": {},
   "outputs": [],
   "source": [
    "import numpy as np\n",
    "loan_consumer_data['STATE_TYPE'] = np.where(loan_consumer_data['STATE'].isin(['Manipur', 'Mizoram','Tripura',\n",
    "                                                                              'Sikkim','Assam','West_Bengal','Odisha','Bihar','Jharkhand'\n",
    "                                                               ]), 'EAST',loan_consumer_data['STATE'])"
   ]
  },
  {
   "cell_type": "code",
   "execution_count": 88,
   "metadata": {},
   "outputs": [],
   "source": [
    "import numpy as np\n",
    "loan_consumer_data['STATE_TYPE'] = np.where(loan_consumer_data['STATE'].isin(['Maharashtra', 'Gujarat','Chhattisgarh',\n",
    "                                                                              'Madhya_Pradesh'\n",
    "                                                               ]), 'WEST',loan_consumer_data['STATE_TYPE'])"
   ]
  },
  {
   "cell_type": "code",
   "execution_count": 89,
   "metadata": {},
   "outputs": [],
   "source": [
    "import numpy as np\n",
    "loan_consumer_data['STATE_TYPE'] = np.where(loan_consumer_data['STATE'].isin(['Chandigarh', 'Uttar_Pradesh[5]','Uttar_Pradesh',\n",
    "                                                                              'Jammu_and_Kashmir','Delhi','Punjab','Haryana','Himachal_Pradesh','Rajasthan','Uttarakhand'\n",
    "                                                               ]), 'NORTH',loan_consumer_data['STATE_TYPE'])"
   ]
  },
  {
   "cell_type": "code",
   "execution_count": 90,
   "metadata": {},
   "outputs": [],
   "source": [
    "import numpy as np\n",
    "loan_consumer_data['STATE_TYPE'] = np.where(loan_consumer_data['STATE'].isin(['Andhra_Pradesh', 'Tamil_Nadu','Telangana',\n",
    "                                                                              'Karnataka','Kerala','Puducherry'\n",
    "                                                               ]), 'SOUTH',loan_consumer_data['STATE_TYPE'])"
   ]
  },
  {
   "cell_type": "code",
   "execution_count": 91,
   "metadata": {},
   "outputs": [
    {
     "data": {
      "text/plain": [
       "array(['WEST', 'SOUTH', 'EAST', 'NORTH'], dtype=object)"
      ]
     },
     "execution_count": 91,
     "metadata": {},
     "output_type": "execute_result"
    }
   ],
   "source": [
    "loan_consumer_data['STATE'].unique()\n",
    "loan_consumer_data['STATE_TYPE'].unique()"
   ]
  },
  {
   "cell_type": "code",
   "execution_count": 92,
   "metadata": {},
   "outputs": [],
   "source": [
    "import numpy as np\n",
    "loan_consumer_data['PROFESSION_TYPE'] = np.where(loan_consumer_data['Profession'].isin(['Hotel_Manager', 'Flight_attendant','Politician',\n",
    "                                                                            'Microbiologist','Technician'\n",
    "                                                               ]), 'OTHER',loan_consumer_data['Profession'])"
   ]
  },
  {
   "cell_type": "code",
   "execution_count": 93,
   "metadata": {},
   "outputs": [],
   "source": [
    "import numpy as np\n",
    "loan_consumer_data['PROFESSION_TYPE'] = np.where(loan_consumer_data['Profession'].isin(['Analyst', 'Chartered_Accountant','Consultant',\n",
    "                                                                            'Economist','Financial_Analyst'\n",
    "                                                               ]), 'FINANCE',loan_consumer_data['PROFESSION_TYPE'])"
   ]
  },
  {
   "cell_type": "code",
   "execution_count": 94,
   "metadata": {},
   "outputs": [],
   "source": [
    "import numpy as np\n",
    "loan_consumer_data['PROFESSION_TYPE'] = np.where(loan_consumer_data['Profession'].isin(['Industrial_Engineer', 'Mechanical_engineer','Chemical_engineer',\n",
    "                                                                            'Software_Developer','Petroleum_Engineer','Computer_hardware_engineer','Biomedical_Engineer','Technology_specialist','Design_Engineer','Engineer','Civil_engineer','Computer_operator'\n",
    "                                                               ]), 'ENGINEER',loan_consumer_data['PROFESSION_TYPE'])"
   ]
  },
  {
   "cell_type": "code",
   "execution_count": 95,
   "metadata": {},
   "outputs": [],
   "source": [
    "import numpy as np\n",
    "loan_consumer_data['PROFESSION_TYPE'] = np.where(loan_consumer_data['Profession'].isin(['Web_designer', 'Designer','Graphic_Designer',\n",
    "                                                                            'Architect','Chef','Comedian','Technical_writer','Artist','Fashion_Designer'\n",
    "                                                               ]), 'ARTS',loan_consumer_data['PROFESSION_TYPE'])"
   ]
  },
  {
   "cell_type": "code",
   "execution_count": 96,
   "metadata": {},
   "outputs": [],
   "source": [
    "import numpy as np\n",
    "loan_consumer_data['PROFESSION_TYPE'] = np.where(loan_consumer_data['Profession'].isin(['Civil_servant', 'Official','Army_officer',\n",
    "                                                                            'Surveyor','Geologist','Librarian','Scientist','Firefighter','Statistician','Drafter','Magistrate','Aviator','Air_traffic_controller','Lawyer','Secretary','Police_officer'\n",
    "                                                               ]), 'GOVT',loan_consumer_data['PROFESSION_TYPE'])"
   ]
  },
  {
   "cell_type": "code",
   "execution_count": 97,
   "metadata": {},
   "outputs": [],
   "source": [
    "import numpy as np\n",
    "loan_consumer_data['PROFESSION_TYPE'] = np.where(loan_consumer_data['Profession'].isin(['Physician', 'Dentist','Surgeon',\n",
    "                                                                            'Psychologist'\n",
    "                                                               ]), 'MEDICAL',loan_consumer_data['PROFESSION_TYPE'])"
   ]
  },
  {
   "cell_type": "code",
   "execution_count": 98,
   "metadata": {},
   "outputs": [
    {
     "data": {
      "text/plain": [
       "array(['ENGINEER', 'ARTS', 'GOVT', 'FINANCE', 'OTHER', 'MEDICAL'],\n",
       "      dtype=object)"
      ]
     },
     "execution_count": 98,
     "metadata": {},
     "output_type": "execute_result"
    }
   ],
   "source": [
    "loan_consumer_data['Profession'].unique()\n",
    "loan_consumer_data['PROFESSION_TYPE'].unique()"
   ]
  },
  {
   "cell_type": "markdown",
   "metadata": {},
   "source": [
    "# Converting Continuous variables to Categorical dummies"
   ]
  },
  {
   "cell_type": "code",
   "execution_count": 99,
   "metadata": {},
   "outputs": [],
   "source": [
    "loan_consumer_data['Age:20-30']=np.where(loan_consumer_data['Age'].isin(range(20,31)),1,0)\n",
    "loan_consumer_data['Age:30-40']=np.where(loan_consumer_data['Age'].isin(range(30,41)),1,0)\n",
    "loan_consumer_data['Age:40-50']=np.where(loan_consumer_data['Age'].isin(range(40,51)),1,0)\n",
    "loan_consumer_data['Age:50-60']=np.where(loan_consumer_data['Age'].isin(range(50,61)),1,0)\n",
    "loan_consumer_data['Age:60-70']=np.where(loan_consumer_data['Age'].isin(range(60,71)),1,0)\n",
    "loan_consumer_data['Age:70-80']=np.where(loan_consumer_data['Age'].isin(range(70,81)),1,0)\n",
    "loan_consumer_data['Age:80-90']=np.where(loan_consumer_data['Age'].isin(range(80,91)),1,0)"
   ]
  },
  {
   "cell_type": "code",
   "execution_count": 100,
   "metadata": {},
   "outputs": [],
   "source": [
    "loan_consumer_data['Experience:0-5']=np.where(loan_consumer_data['Experience'].isin(range(0,6)),1,0)\n",
    "loan_consumer_data['Experience:6-10']=np.where(loan_consumer_data['Experience'].isin(range(6,11)),1,0)\n",
    "loan_consumer_data['Experience:11-15']=np.where(loan_consumer_data['Experience'].isin(range(11,16)),1,0)\n",
    "loan_consumer_data['Experience:16-20']=np.where(loan_consumer_data['Experience'].isin(range(16,21)),1,0)"
   ]
  },
  {
   "cell_type": "code",
   "execution_count": 101,
   "metadata": {},
   "outputs": [],
   "source": [
    "loan_consumer_data['Experience:0-5']=np.where(loan_consumer_data['Experience'].isin(range(0,6)),1,0)\n",
    "loan_consumer_data['Experience:6-10']=np.where(loan_consumer_data['Experience'].isin(range(6,11)),1,0)\n",
    "loan_consumer_data['Experience:11-15']=np.where(loan_consumer_data['Experience'].isin(range(11,16)),1,0)\n",
    "loan_consumer_data['Experience:16-20']=np.where(loan_consumer_data['Experience'].isin(range(16,21)),1,0)"
   ]
  },
  {
   "cell_type": "code",
   "execution_count": 102,
   "metadata": {},
   "outputs": [],
   "source": [
    "loan_consumer_data['Income:0-5L']=np.where(loan_consumer_data['Income'].isin(range(0,500001)),1,0)\n",
    "loan_consumer_data['Income:5-5L']=np.where(loan_consumer_data['Income'].isin(range(500000,1000001)),1,0)\n",
    "loan_consumer_data['Income:10-15L']=np.where(loan_consumer_data['Income'].isin(range(1000000,1500001)),1,0)\n",
    "loan_consumer_data['Income:15-20L']=np.where(loan_consumer_data['Income'].isin(range(1500000,2000001)),1,0)\n",
    "loan_consumer_data['Income:20-25L']=np.where(loan_consumer_data['Income'].isin(range(2000000,2500001)),1,0)\n",
    "loan_consumer_data['Income:25-30L']=np.where(loan_consumer_data['Income'].isin(range(2500000,3000001)),1,0)\n",
    "loan_consumer_data['Income:30-35L']=np.where(loan_consumer_data['Income'].isin(range(3000000,3500001)),1,0)\n",
    "loan_consumer_data['Income:35-40L']=np.where(loan_consumer_data['Income'].isin(range(3500000,4000001)),1,0)\n",
    "loan_consumer_data['Income:40-45L']=np.where(loan_consumer_data['Income'].isin(range(4000000,4500001)),1,0)\n",
    "loan_consumer_data['Income:45-50L']=np.where(loan_consumer_data['Income'].isin(range(4500000,5000001)),1,0)\n",
    "loan_consumer_data['Income:50-55L']=np.where(loan_consumer_data['Income'].isin(range(5000000,5500001)),1,0)\n",
    "loan_consumer_data['Income:55-60L']=np.where(loan_consumer_data['Income'].isin(range(5500000,6000001)),1,0)\n",
    "loan_consumer_data['Income:60-65L']=np.where(loan_consumer_data['Income'].isin(range(6000000,6500001)),1,0)\n",
    "loan_consumer_data['Income:65-70L']=np.where(loan_consumer_data['Income'].isin(range(6500000,7000001)),1,0)\n",
    "loan_consumer_data['Income:70-75L']=np.where(loan_consumer_data['Income'].isin(range(7000000,7500001)),1,0)\n",
    "loan_consumer_data['Income:75-80L']=np.where(loan_consumer_data['Income'].isin(range(7500000,8000001)),1,0)\n",
    "loan_consumer_data['Income:80-85L']=np.where(loan_consumer_data['Income'].isin(range(8000000,8500001)),1,0)\n",
    "loan_consumer_data['Income:85-90L']=np.where(loan_consumer_data['Income'].isin(range(8500000,9000001)),1,0)\n",
    "loan_consumer_data['Income:90-95L']=np.where(loan_consumer_data['Income'].isin(range(9000000,9500001)),1,0)\n",
    "loan_consumer_data['Income:95-100L']=np.where(loan_consumer_data['Income'].isin(range(9500000,10000001)),1,0)\n",
    "loan_consumer_data['Income:100-200']=np.where(loan_consumer_data['Income'].isin(range(10000000,20000000)),1,0)"
   ]
  },
  {
   "cell_type": "code",
   "execution_count": 103,
   "metadata": {},
   "outputs": [],
   "source": [
    "loan_consumer_data['CURRENT_JOB_YRS:0-5']=np.where(loan_consumer_data['CURRENT_JOB_YRS'].isin(range(0,6)),1,0)\n",
    "loan_consumer_data['CURRENT_JOB_YRS:5-10']=np.where(loan_consumer_data['CURRENT_JOB_YRS'].isin(range(6,11)),1,0)\n",
    "loan_consumer_data['CURRENT_JOB_YRS:10-15']=np.where(loan_consumer_data['CURRENT_JOB_YRS'].isin(range(11,16)),1,0)"
   ]
  },
  {
   "cell_type": "markdown",
   "metadata": {},
   "source": [
    "# Retaining only categorical variables"
   ]
  },
  {
   "cell_type": "code",
   "execution_count": 104,
   "metadata": {},
   "outputs": [],
   "source": [
    "loan_consumer_model_data = loan_consumer_data.drop(['Id','Income','Age','Experience','Profession','CITY','STATE','CURRENT_JOB_YRS'],axis=1)"
   ]
  },
  {
   "cell_type": "markdown",
   "metadata": {},
   "source": [
    "# Creating dummies for categorical(object) variables"
   ]
  },
  {
   "cell_type": "code",
   "execution_count": 105,
   "metadata": {},
   "outputs": [
    {
     "name": "stdout",
     "output_type": "stream",
     "text": [
      "Index(['CURRENT_HOUSE_YRS', 'Risk_Flag', 'Age:20-30', 'Age:30-40', 'Age:40-50',\n",
      "       'Age:50-60', 'Age:60-70', 'Age:70-80', 'Age:80-90', 'Experience:0-5',\n",
      "       'Experience:6-10', 'Experience:11-15', 'Experience:16-20',\n",
      "       'Income:0-5L', 'Income:5-5L', 'Income:10-15L', 'Income:15-20L',\n",
      "       'Income:20-25L', 'Income:25-30L', 'Income:30-35L', 'Income:35-40L',\n",
      "       'Income:40-45L', 'Income:45-50L', 'Income:50-55L', 'Income:55-60L',\n",
      "       'Income:60-65L', 'Income:65-70L', 'Income:70-75L', 'Income:75-80L',\n",
      "       'Income:80-85L', 'Income:85-90L', 'Income:90-95L', 'Income:95-100L',\n",
      "       'Income:100-200', 'CURRENT_JOB_YRS:0-5', 'CURRENT_JOB_YRS:5-10',\n",
      "       'CURRENT_JOB_YRS:10-15', 'Married/Single_married',\n",
      "       'Married/Single_single', 'House_Ownership_norent_noown',\n",
      "       'House_Ownership_owned', 'House_Ownership_rented', 'Car_Ownership_no',\n",
      "       'Car_Ownership_yes', 'STATE_TYPE_EAST', 'STATE_TYPE_NORTH',\n",
      "       'STATE_TYPE_SOUTH', 'STATE_TYPE_WEST', 'PROFESSION_TYPE_ARTS',\n",
      "       'PROFESSION_TYPE_ENGINEER', 'PROFESSION_TYPE_FINANCE',\n",
      "       'PROFESSION_TYPE_GOVT', 'PROFESSION_TYPE_MEDICAL',\n",
      "       'PROFESSION_TYPE_OTHER'],\n",
      "      dtype='object')\n"
     ]
    }
   ],
   "source": [
    "# Create two data sets for numeric and non-numeric data\n",
    "data_num = loan_consumer_model_data.select_dtypes(exclude=['object'])\n",
    "data_str = loan_consumer_model_data.select_dtypes(include=['object'])\n",
    "\n",
    "# One-hot encode the non-numeric columns\n",
    "data_str_onehot = pd.get_dummies(data_str)\n",
    "\n",
    "# Union the one-hot encoded columns to the numeric ones\n",
    "loan_data_model_final = pd.concat([data_num, data_str_onehot], axis=1)\n",
    "\n",
    "# Print the columns in the new data set\n",
    "print(loan_data_model_final.columns)"
   ]
  },
  {
   "cell_type": "markdown",
   "metadata": {},
   "source": [
    "# Now with all(only) dummies data prepared, Model Building can be started"
   ]
  },
  {
   "cell_type": "markdown",
   "metadata": {},
   "source": [
    "# Model Building - Logistic Regression"
   ]
  },
  {
   "cell_type": "code",
   "execution_count": 106,
   "metadata": {},
   "outputs": [
    {
     "name": "stdout",
     "output_type": "stream",
     "text": [
      "[[-0.00692726  0.1022801  -0.09877079 -0.10907907 -0.05633311 -0.13920293\n",
      "  -0.11465514  0.          0.0722571  -0.22476744 -0.1713591  -0.29852368\n",
      "   0.10309755  0.10341366 -0.08015297  0.07671239 -0.12042138 -0.24309439\n",
      "  -0.03390473 -0.06593411  0.01444296  0.01118221 -0.08249366 -0.02442422\n",
      "  -0.13345469 -0.09025795 -0.03156422 -0.03276491  0.07259921 -0.0570897\n",
      "   0.09584766 -0.10413186  0.         -0.29104728 -0.21798069 -0.11336515\n",
      "  -0.41355277 -0.20884035 -0.27475991 -0.35395083  0.0063176  -0.23203455\n",
      "  -0.39035858 -0.07409907 -0.2076912  -0.22811627 -0.11248659 -0.12427683\n",
      "  -0.17088287 -0.12352062 -0.00164548 -0.12790171 -0.07416563]]\n",
      "[[0.8413693  0.1586307 ]\n",
      " [0.84019607 0.15980393]\n",
      " [0.90637397 0.09362603]\n",
      " ...\n",
      " [0.87788471 0.12211529]\n",
      " [0.87691309 0.12308691]\n",
      " [0.86986382 0.13013618]]\n"
     ]
    }
   ],
   "source": [
    "from sklearn.linear_model import LogisticRegression\n",
    "from sklearn.model_selection import train_test_split\n",
    "# Create the X and y data sets\n",
    "X = loan_data_model_final.drop(['Risk_Flag'],axis=1)\n",
    "y = loan_data_model_final[['Risk_Flag']]\n",
    "\n",
    "# Use test_train_split to create the training and test sets\n",
    "X_train, X_test, y_train, y_test = train_test_split(X, y, test_size=.3, random_state=123)\n",
    "\n",
    "# Create and fit the logistic regression model\n",
    "clf_logistic = LogisticRegression(max_iter=1000).fit(X_train, np.ravel(y_train))\n",
    "\n",
    "# Print the models coefficients\n",
    "print(clf_logistic.coef_)\n",
    "\n",
    "# Create predictions of probability for loan status using test data\n",
    "preds = clf_logistic.predict_proba(X_test)\n",
    "\n",
    "print(preds)"
   ]
  },
  {
   "cell_type": "code",
   "execution_count": 107,
   "metadata": {},
   "outputs": [
    {
     "data": {
      "text/plain": [
       "0.8780820105820106"
      ]
     },
     "execution_count": 107,
     "metadata": {},
     "output_type": "execute_result"
    }
   ],
   "source": [
    "clf_logistic.score(X_test,y_test)"
   ]
  },
  {
   "cell_type": "code",
   "execution_count": 108,
   "metadata": {},
   "outputs": [
    {
     "name": "stdout",
     "output_type": "stream",
     "text": [
      "0    64150\n",
      "1    11450\n",
      "Name: Risk_Flag, dtype: int64\n",
      "              precision    recall  f1-score   support\n",
      "\n",
      " Non-Default       0.89      0.86      0.87     66383\n",
      "     Default       0.17      0.21      0.18      9217\n",
      "\n",
      "    accuracy                           0.78     75600\n",
      "   macro avg       0.53      0.53      0.53     75600\n",
      "weighted avg       0.80      0.78      0.79     75600\n",
      "\n"
     ]
    }
   ],
   "source": [
    "# Create a dataframe for the probabilities of default\n",
    "from sklearn.metrics import classification_report\n",
    "preds_df = pd.DataFrame(preds[:,1], columns = ['prob_default'])\n",
    "\n",
    "# Reassign loan status based on the threshold\n",
    "preds_df['Risk_Flag'] = preds_df['prob_default'].apply(lambda x: 1 if x > 0.15 else 0)\n",
    "\n",
    "# Print the row counts for each loan status\n",
    "print(preds_df['Risk_Flag'].value_counts())\n",
    "\n",
    "# Print the classification report\n",
    "target_names = ['Non-Default', 'Default']\n",
    "print(classification_report(y_test, preds_df['Risk_Flag'], target_names=target_names))"
   ]
  },
  {
   "cell_type": "markdown",
   "metadata": {},
   "source": [
    "# Due to huge imbalance of the data in the ratio 1:6 (Non-default:Default), the model prediction is inaccurate"
   ]
  },
  {
   "cell_type": "markdown",
   "metadata": {},
   "source": [
    "# To Balance the data, we have the below approaches\n",
    "\n",
    "#  1. Gather more data - Which will increase the number of defaults, but percentage of defaults may not change\n",
    "#  2. Under sample the Non-default data to create balanced data"
   ]
  },
  {
   "cell_type": "markdown",
   "metadata": {},
   "source": [
    "# Here, we adopt/follow the Undersampling method to create balanced data"
   ]
  },
  {
   "cell_type": "code",
   "execution_count": 109,
   "metadata": {},
   "outputs": [],
   "source": [
    "count_nondefault, count_default = loan_data_model_final['Risk_Flag'].value_counts()\n",
    "\n",
    "nondefaults = loan_data_model_final[loan_data_model_final['Risk_Flag'] == 0]\n",
    "defaults = loan_data_model_final[loan_data_model_final['Risk_Flag'] == 1]\n",
    "nondefaults_under = nondefaults.sample(count_default)\n",
    "loan_data_model_final_under = pd.concat([nondefaults_under.reset_index(drop = True), defaults.reset_index(drop=True)], axis=0)"
   ]
  },
  {
   "cell_type": "code",
   "execution_count": 110,
   "metadata": {},
   "outputs": [
    {
     "data": {
      "text/plain": [
       "1    30996\n",
       "0    30996\n",
       "Name: Risk_Flag, dtype: int64"
      ]
     },
     "execution_count": 110,
     "metadata": {},
     "output_type": "execute_result"
    }
   ],
   "source": [
    "loan_data_model_final_under['Risk_Flag'].value_counts()"
   ]
  },
  {
   "cell_type": "markdown",
   "metadata": {},
   "source": [
    "# With the balanced data, we once again train the model using Logistic Regression"
   ]
  },
  {
   "cell_type": "code",
   "execution_count": 111,
   "metadata": {},
   "outputs": [
    {
     "name": "stdout",
     "output_type": "stream",
     "text": [
      "[[-0.0100112   0.14324721 -0.10318371 -0.12758054 -0.08237907 -0.13460717\n",
      "  -0.10352384  0.          0.23414902 -0.06976797 -0.06054724 -0.12751079\n",
      "   0.14045505  0.13822943 -0.06930068  0.05882733 -0.09328516 -0.18497111\n",
      "   0.03879976 -0.05379676  0.08082097 -0.01103052 -0.01945601  0.04348882\n",
      "  -0.17695044 -0.0800984  -0.00683306  0.04209422  0.05666316 -0.01880818\n",
      "   0.14650726 -0.05503269  0.         -0.12406928  0.0020572   0.0983351\n",
      "  -0.1225706   0.09889362 -0.04444545 -0.14441951  0.16518798  0.06850722\n",
      "  -0.0921842   0.06739681 -0.01730767 -0.10046796  0.02670183 -0.04024821\n",
      "  -0.06903081 -0.02827395  0.10075307 -0.03006413  0.04318705]]\n",
      "   Risk_Flag  prob_default\n",
      "0          1      0.441332\n",
      "1          0      0.590120\n",
      "2          0      0.394059\n",
      "3          1      0.558619\n",
      "4          1      0.537715\n"
     ]
    }
   ],
   "source": [
    "from sklearn.linear_model import LogisticRegression\n",
    "from sklearn.model_selection import train_test_split\n",
    "# Create the X and y data sets\n",
    "X = loan_data_model_final_under.drop(['Risk_Flag'],axis=1)\n",
    "y = loan_data_model_final_under[['Risk_Flag']]\n",
    "\n",
    "# Use test_train_split to create the training and test sets\n",
    "X_train, X_test, y_train, y_test = train_test_split(X, y, test_size=.3, random_state=123)\n",
    "\n",
    "# Create and fit the logistic regression model\n",
    "clf_logistic = LogisticRegression(solver='lbfgs',max_iter=4000).fit(X_train, np.ravel(y_train))\n",
    "\n",
    "# Print the models coefficients\n",
    "print(clf_logistic.coef_)\n",
    "\n",
    "# Create predictions of probability for loan status using test data\n",
    "preds = clf_logistic.predict_proba(X_test)\n",
    "\n",
    "# Create dataframes of first five predictions, and first five true labels\n",
    "preds_df = pd.DataFrame(preds[:,1][0:5], columns = ['prob_default'])\n",
    "true_df = y_test.head()\n",
    "\n",
    "# Concatenate and print the two data frames for comparison\n",
    "print(pd.concat([true_df.reset_index(drop = True), preds_df], axis = 1))"
   ]
  },
  {
   "cell_type": "code",
   "execution_count": 43,
   "metadata": {
    "scrolled": true
   },
   "outputs": [
    {
     "name": "stdout",
     "output_type": "stream",
     "text": [
      "1    9519\n",
      "0    9079\n",
      "Name: Risk_Flag, dtype: int64\n",
      "              precision    recall  f1-score   support\n",
      "\n",
      " Non-Default       0.55      0.54      0.54      9290\n",
      "     Default       0.55      0.56      0.55      9308\n",
      "\n",
      "    accuracy                           0.55     18598\n",
      "   macro avg       0.55      0.55      0.55     18598\n",
      "weighted avg       0.55      0.55      0.55     18598\n",
      "\n"
     ]
    }
   ],
   "source": [
    "# Create a dataframe for the probabilities of default\n",
    "from sklearn.metrics import classification_report\n",
    "preds_df = pd.DataFrame(preds[:,1], columns = ['prob_default'])\n",
    "\n",
    "# Reassign loan status based on the threshold\n",
    "preds_df['Risk_Flag'] = preds_df['prob_default'].apply(lambda x: 1 if x > 0.5 else 0)\n",
    "\n",
    "# Print the row counts for each loan status\n",
    "print(preds_df['Risk_Flag'].value_counts())\n",
    "\n",
    "# Print the classification report\n",
    "target_names = ['Non-Default', 'Default']\n",
    "print(classification_report(y_test, preds_df['Risk_Flag'], target_names=target_names))"
   ]
  },
  {
   "cell_type": "markdown",
   "metadata": {},
   "source": [
    "# Even with the balanced data, model performance though improved from previous run, is not significant"
   ]
  },
  {
   "cell_type": "markdown",
   "metadata": {},
   "source": [
    "# Since the Undersampling has not improved model performace, lets try Upsampling the data using SMOTEENN( which uses KNN =3)"
   ]
  },
  {
   "cell_type": "code",
   "execution_count": null,
   "metadata": {},
   "outputs": [],
   "source": [
    "from imblearn.combine import SMOTEENN\n",
    "X = loan_data_model_final.drop(['Risk_Flag'],axis=1)\n",
    "y = loan_data_model_final[['Risk_Flag']]\n",
    "sm = SMOTEENN()\n",
    "X_resampled, y_resampled = sm.fit_sample(X,y)"
   ]
  },
  {
   "cell_type": "markdown",
   "metadata": {},
   "source": [
    "# SMOTEENN is taking long hours to complete."
   ]
  },
  {
   "cell_type": "markdown",
   "metadata": {},
   "source": [
    "# Model Building - Using XGBoost Decision Trees"
   ]
  },
  {
   "cell_type": "code",
   "execution_count": 112,
   "metadata": {},
   "outputs": [
    {
     "name": "stderr",
     "output_type": "stream",
     "text": [
      "E:\\anaconda\\lib\\site-packages\\xgboost\\sklearn.py:1224: UserWarning: The use of label encoder in XGBClassifier is deprecated and will be removed in a future release. To remove this warning, do the following: 1) Pass option use_label_encoder=False when constructing XGBClassifier object; and 2) Encode your labels (y) as integers starting with 0, i.e. 0, 1, 2, ..., [num_class - 1].\n",
      "  warnings.warn(label_encoder_deprecation_msg, UserWarning)\n"
     ]
    },
    {
     "name": "stdout",
     "output_type": "stream",
     "text": [
      "[13:19:44] WARNING: C:/Users/Administrator/workspace/xgboost-win64_release_1.5.1/src/learner.cc:1115: Starting in XGBoost 1.3.0, the default evaluation metric used with the objective 'binary:logistic' was changed from 'error' to 'logloss'. Explicitly set eval_metric if you'd like to restore the old behavior.\n",
      "   Risk_Flag  prob_default\n",
      "0          1      0.261705\n",
      "1          1      0.440264\n",
      "2          0      0.039093\n",
      "3          0      0.061947\n",
      "4          0      0.063967\n"
     ]
    }
   ],
   "source": [
    "from sklearn.linear_model import LogisticRegression\n",
    "import xgboost as xgb\n",
    "from sklearn.model_selection import train_test_split\n",
    "# Create the X and y data sets\n",
    "X = loan_data_model_final.drop(['Risk_Flag'],axis=1)\n",
    "y = loan_data_model_final[['Risk_Flag']]\n",
    "\n",
    "# Use test_train_split to create the training and test sets\n",
    "X_train, X_test, y_train, y_test = train_test_split(X, y, test_size=.3, random_state=123)\n",
    "\n",
    "# Create and fit the logistic regression model\n",
    "clf_gbt = xgb.XGBClassifier().fit(X_train, np.ravel(y_train))\n",
    "\n",
    "\n",
    "# Predict with a model\n",
    "gbt_preds = clf_gbt.predict_proba(X_test)\n",
    "\n",
    "# Create dataframes of first five predictions, and first five true labels\n",
    "preds_df = pd.DataFrame(gbt_preds[:,1][0:5], columns = ['prob_default'])\n",
    "true_df = y_test.head()\n",
    "\n",
    "# Concatenate and print the two data frames for comparison\n",
    "print(pd.concat([true_df.reset_index(drop = True), preds_df], axis = 1))"
   ]
  },
  {
   "cell_type": "code",
   "execution_count": 113,
   "metadata": {},
   "outputs": [
    {
     "name": "stdout",
     "output_type": "stream",
     "text": [
      "0    65494\n",
      "1    10106\n",
      "Name: Risk_Flag, dtype: int64\n",
      "              precision    recall  f1-score   support\n",
      "\n",
      " Non-Default       0.94      0.93      0.93     66383\n",
      "     Default       0.52      0.57      0.54      9217\n",
      "\n",
      "    accuracy                           0.88     75600\n",
      "   macro avg       0.73      0.75      0.74     75600\n",
      "weighted avg       0.89      0.88      0.89     75600\n",
      "\n"
     ]
    }
   ],
   "source": [
    "# Create a dataframe for the probabilities of default\n",
    "from sklearn.metrics import classification_report\n",
    "preds_df = pd.DataFrame(gbt_preds[:,1], columns = ['prob_default'])\n",
    "\n",
    "# Reassign loan status based on the threshold\n",
    "preds_df['Risk_Flag'] = preds_df['prob_default'].apply(lambda x: 1 if x > 0.25 else 0)\n",
    "\n",
    "# Print the row counts for each loan status\n",
    "print(preds_df['Risk_Flag'].value_counts())\n",
    "\n",
    "# Print the classification report\n",
    "target_names = ['Non-Default', 'Default']\n",
    "print(classification_report(y_test, preds_df['Risk_Flag'], target_names=target_names))"
   ]
  },
  {
   "cell_type": "markdown",
   "metadata": {},
   "source": [
    "# Though the XGBoost performance is better than Logistic Regression, due to imbalance of data, Model performance in Default - precision and recall is poor."
   ]
  },
  {
   "cell_type": "markdown",
   "metadata": {},
   "source": [
    "# Creating balanced data using under sampling"
   ]
  },
  {
   "cell_type": "code",
   "execution_count": 114,
   "metadata": {},
   "outputs": [
    {
     "name": "stdout",
     "output_type": "stream",
     "text": [
      "1    30996\n",
      "0    30996\n",
      "Name: Risk_Flag, dtype: int64\n"
     ]
    }
   ],
   "source": [
    "count_nondefault, count_default = loan_data_model_final['Risk_Flag'].value_counts()\n",
    "#print(count_nondefault,count_default)  221004 30996\n",
    "nondefaults = loan_data_model_final[loan_data_model_final['Risk_Flag'] ==0]\n",
    "defaults = loan_data_model_final[loan_data_model_final['Risk_Flag'] ==1]\n",
    "nondefaults_under = nondefaults.sample(count_default)\n",
    "loan_data_model_final_under = pd.concat([nondefaults_under.reset_index(drop = True), defaults.reset_index(drop=True)], axis=0)\n",
    "print(loan_data_model_final_under['Risk_Flag'].value_counts())"
   ]
  },
  {
   "cell_type": "markdown",
   "metadata": {},
   "source": [
    "# Now with the balanced data, running XGBoost once again"
   ]
  },
  {
   "cell_type": "code",
   "execution_count": 115,
   "metadata": {},
   "outputs": [
    {
     "name": "stderr",
     "output_type": "stream",
     "text": [
      "E:\\anaconda\\lib\\site-packages\\xgboost\\sklearn.py:1224: UserWarning: The use of label encoder in XGBClassifier is deprecated and will be removed in a future release. To remove this warning, do the following: 1) Pass option use_label_encoder=False when constructing XGBClassifier object; and 2) Encode your labels (y) as integers starting with 0, i.e. 0, 1, 2, ..., [num_class - 1].\n",
      "  warnings.warn(label_encoder_deprecation_msg, UserWarning)\n"
     ]
    },
    {
     "name": "stdout",
     "output_type": "stream",
     "text": [
      "[13:21:07] WARNING: C:/Users/Administrator/workspace/xgboost-win64_release_1.5.1/src/learner.cc:1115: Starting in XGBoost 1.3.0, the default evaluation metric used with the objective 'binary:logistic' was changed from 'error' to 'logloss'. Explicitly set eval_metric if you'd like to restore the old behavior.\n",
      "   Risk_Flag  prob_default\n",
      "0          1      0.700950\n",
      "1          0      0.438669\n",
      "2          0      0.714333\n",
      "3          1      0.812533\n",
      "4          1      0.564731\n"
     ]
    }
   ],
   "source": [
    "import xgboost as xgb\n",
    "from sklearn.model_selection import train_test_split\n",
    "# Create the X and y data sets\n",
    "X = loan_data_model_final_under.drop(['Risk_Flag'],axis=1)\n",
    "y = loan_data_model_final_under[['Risk_Flag']]\n",
    "\n",
    "# Use test_train_split to create the training and test sets\n",
    "X_train, X_test, y_train, y_test = train_test_split(X, y, test_size=.3, random_state=123)\n",
    "\n",
    "# Create and fit the logistic regression model\n",
    "clf_gbt = xgb.XGBClassifier().fit(X_train, np.ravel(y_train))\n",
    "\n",
    "\n",
    "# Predict with a model\n",
    "gbt_preds = clf_gbt.predict_proba(X_test)\n",
    "\n",
    "# Create dataframes of first five predictions, and first five true labels\n",
    "preds_df = pd.DataFrame(gbt_preds[:,1][0:5], columns = ['prob_default'])\n",
    "true_df = y_test.head()\n",
    "\n",
    "# Concatenate and print the two data frames for comparison\n",
    "print(pd.concat([true_df.reset_index(drop = True), preds_df], axis = 1))"
   ]
  },
  {
   "cell_type": "code",
   "execution_count": 116,
   "metadata": {},
   "outputs": [
    {
     "name": "stdout",
     "output_type": "stream",
     "text": [
      "1    9761\n",
      "0    8837\n",
      "Name: Risk_Flag, dtype: int64\n",
      "              precision    recall  f1-score   support\n",
      "\n",
      " Non-Default       0.81      0.77      0.79      9290\n",
      "     Default       0.78      0.82      0.80      9308\n",
      "\n",
      "    accuracy                           0.79     18598\n",
      "   macro avg       0.79      0.79      0.79     18598\n",
      "weighted avg       0.79      0.79      0.79     18598\n",
      "\n"
     ]
    }
   ],
   "source": [
    "# Create a dataframe for the probabilities of default\n",
    "from sklearn.metrics import classification_report\n",
    "preds_df = pd.DataFrame(gbt_preds[:,1], columns = ['prob_default'])\n",
    "\n",
    "# Reassign loan status based on the threshold\n",
    "preds_df['Risk_Flag'] = preds_df['prob_default'].apply(lambda x: 1 if x > 0.5 else 0)\n",
    "\n",
    "# Print the row counts for each loan status\n",
    "print(preds_df['Risk_Flag'].value_counts())\n",
    "\n",
    "# Print the classification report\n",
    "target_names = ['Non-Default', 'Default']\n",
    "print(classification_report(y_test, preds_df['Risk_Flag'], target_names=target_names))"
   ]
  },
  {
   "cell_type": "markdown",
   "metadata": {},
   "source": [
    "# Balanced data improved XGBoost model peformance with F1-Score reaching 79%."
   ]
  },
  {
   "cell_type": "code",
   "execution_count": 117,
   "metadata": {},
   "outputs": [
    {
     "name": "stdout",
     "output_type": "stream",
     "text": [
      "0.8508598689137623\n"
     ]
    },
    {
     "data": {
      "image/png": "[encoded data removed]",
      "text/plain": [
       "<Figure size 432x288 with 1 Axes>"
      ]
     },
     "metadata": {
      "needs_background": "light"
     },
     "output_type": "display_data"
    }
   ],
   "source": [
    "from sklearn.metrics import roc_curve\n",
    "from sklearn.metrics import roc_auc_score\n",
    "\n",
    "fallout_gbt, sensitivity_gbt, thresholds_gbt = roc_curve(y_test, gbt_preds[:,1])\n",
    "plt.plot(fallout_gbt, sensitivity_gbt, color='orange')\n",
    "plt.plot([0, 1], [0, 1], linestyle='--', label='%s' % 'Random Prediction')\n",
    "plt.title(\"ROC Chart for GBT on the Probability of Default\")\n",
    "plt.xlabel('Fall-out')\n",
    "plt.ylabel('Sensitivity')\n",
    "auc = roc_auc_score(y_test, gbt_preds[:,1])\n",
    "\n",
    "#print AUC score\n",
    "print(auc)"
   ]
  },
  {
   "cell_type": "markdown",
   "metadata": {},
   "source": [
    "# Hyper Parameter Tuning - XGBoost"
   ]
  },
  {
   "cell_type": "code",
   "execution_count": 118,
   "metadata": {},
   "outputs": [
    {
     "data": {
      "text/plain": [
       "1    30996\n",
       "0    30996\n",
       "Name: Risk_Flag, dtype: int64"
      ]
     },
     "execution_count": 118,
     "metadata": {},
     "output_type": "execute_result"
    }
   ],
   "source": [
    "y['Risk_Flag'].value_counts()"
   ]
  },
  {
   "cell_type": "code",
   "execution_count": 119,
   "metadata": {},
   "outputs": [],
   "source": [
    "## Hyper Parameter Optimization - XGBoost\n",
    "\n",
    "params={\n",
    " \"learning_rate\"    : [0.05, 0.10, 0.15, 0.20, 0.25, 0.30 ] ,\n",
    " \"max_depth\"        : [ 3, 4, 5, 6, 8, 10, 12, 15],\n",
    " \"min_child_weight\" : [ 1, 3, 5, 7 ],\n",
    " \"gamma\"            : [ 0.0, 0.1, 0.2 , 0.3, 0.4 ],\n",
    " \"colsample_bytree\" : [ 0.3, 0.4, 0.5 , 0.7 ]\n",
    "    \n",
    "}"
   ]
  },
  {
   "cell_type": "code",
   "execution_count": 120,
   "metadata": {},
   "outputs": [],
   "source": [
    "## Hyperparameter optimization using RandomizedSearchCV\n",
    "from sklearn.model_selection import RandomizedSearchCV, GridSearchCV\n",
    "import xgboost"
   ]
  },
  {
   "cell_type": "code",
   "execution_count": 121,
   "metadata": {},
   "outputs": [],
   "source": [
    "def timer(start_time=None):\n",
    "    if not start_time:\n",
    "        start_time = datetime.now()\n",
    "        return start_time\n",
    "    elif start_time:\n",
    "        thour, temp_sec = divmod((datetime.now() - start_time).total_seconds(), 3600)\n",
    "        tmin, tsec = divmod(temp_sec, 60)\n",
    "        print('\\n Time taken is: %i hours %i minutes and %s seconds.' % (thour, tmin, round(tsec, 2)))"
   ]
  },
  {
   "cell_type": "code",
   "execution_count": 122,
   "metadata": {},
   "outputs": [],
   "source": [
    "classifier=xgboost.XGBClassifier()"
   ]
  },
  {
   "cell_type": "code",
   "execution_count": 123,
   "metadata": {},
   "outputs": [],
   "source": [
    "random_search=RandomizedSearchCV(classifier,param_distributions=params,n_iter=5,scoring='roc_auc',n_jobs=-1,cv=5,verbose=3)"
   ]
  },
  {
   "cell_type": "code",
   "execution_count": 124,
   "metadata": {},
   "outputs": [
    {
     "name": "stdout",
     "output_type": "stream",
     "text": [
      "Fitting 5 folds for each of 5 candidates, totalling 25 fits\n"
     ]
    },
    {
     "name": "stderr",
     "output_type": "stream",
     "text": [
      "[Parallel(n_jobs=-1)]: Using backend LokyBackend with 4 concurrent workers.\n",
      "[Parallel(n_jobs=-1)]: Done  25 out of  25 | elapsed:  2.9min finished\n",
      "E:\\anaconda\\lib\\site-packages\\xgboost\\sklearn.py:1224: UserWarning: The use of label encoder in XGBClassifier is deprecated and will be removed in a future release. To remove this warning, do the following: 1) Pass option use_label_encoder=False when constructing XGBClassifier object; and 2) Encode your labels (y) as integers starting with 0, i.e. 0, 1, 2, ..., [num_class - 1].\n",
      "  warnings.warn(label_encoder_deprecation_msg, UserWarning)\n",
      "E:\\anaconda\\lib\\site-packages\\sklearn\\utils\\validation.py:72: DataConversionWarning: A column-vector y was passed when a 1d array was expected. Please change the shape of y to (n_samples, ), for example using ravel().\n",
      "  return f(**kwargs)\n"
     ]
    },
    {
     "name": "stdout",
     "output_type": "stream",
     "text": [
      "[13:24:33] WARNING: C:/Users/Administrator/workspace/xgboost-win64_release_1.5.1/src/learner.cc:1115: Starting in XGBoost 1.3.0, the default evaluation metric used with the objective 'binary:logistic' was changed from 'error' to 'logloss'. Explicitly set eval_metric if you'd like to restore the old behavior.\n",
      "\n",
      " Time taken: 0 hours 3 minutes and 8.51 seconds.\n"
     ]
    }
   ],
   "source": [
    "from datetime import datetime\n",
    "# Here we go\n",
    "start_time = timer(None) # timing starts from this point for \"start_time\" variable\n",
    "random_search.fit(X,y)\n",
    "timer(start_time) # timing ends here for \"start_time\" variable"
   ]
  },
  {
   "cell_type": "code",
   "execution_count": 125,
   "metadata": {},
   "outputs": [
    {
     "data": {
      "text/plain": [
       "XGBClassifier(base_score=0.5, booster='gbtree', colsample_bylevel=1,\n",
       "              colsample_bynode=1, colsample_bytree=0.4,\n",
       "              enable_categorical=False, gamma=0.3, gpu_id=-1,\n",
       "              importance_type=None, interaction_constraints='',\n",
       "              learning_rate=0.1, max_delta_step=0, max_depth=15,\n",
       "              min_child_weight=5, missing=nan, monotone_constraints='()',\n",
       "              n_estimators=100, n_jobs=4, num_parallel_tree=1, predictor='auto',\n",
       "              random_state=0, reg_alpha=0, reg_lambda=1, scale_pos_weight=1,\n",
       "              subsample=1, tree_method='exact', validate_parameters=1,\n",
       "              verbosity=None)"
      ]
     },
     "execution_count": 125,
     "metadata": {},
     "output_type": "execute_result"
    }
   ],
   "source": [
    "random_search.best_estimator_"
   ]
  },
  {
   "cell_type": "code",
   "execution_count": 126,
   "metadata": {},
   "outputs": [
    {
     "data": {
      "text/plain": [
       "{'min_child_weight': 5,\n",
       " 'max_depth': 15,\n",
       " 'learning_rate': 0.1,\n",
       " 'gamma': 0.3,\n",
       " 'colsample_bytree': 0.4}"
      ]
     },
     "execution_count": 126,
     "metadata": {},
     "output_type": "execute_result"
    }
   ],
   "source": [
    "random_search.best_params_"
   ]
  },
  {
   "cell_type": "code",
   "execution_count": 183,
   "metadata": {},
   "outputs": [
    {
     "name": "stdout",
     "output_type": "stream",
     "text": [
      "[21:37:23] WARNING: C:/Users/Administrator/workspace/xgboost-win64_release_1.5.1/src/learner.cc:1115: Starting in XGBoost 1.3.0, the default evaluation metric used with the objective 'binary:logistic' was changed from 'error' to 'logloss'. Explicitly set eval_metric if you'd like to restore the old behavior.\n"
     ]
    }
   ],
   "source": [
    "import xgboost as xgb\n",
    "from sklearn.model_selection import train_test_split\n",
    "# Create the X and y data sets\n",
    "X = loan_data_model_final_under.drop(['Risk_Flag'],axis=1)\n",
    "y = loan_data_model_final_under[['Risk_Flag']]\n",
    "\n",
    "# Use test_train_split to create the training and test sets\n",
    "X_train_s, X_test_s, y_train, y_test = train_test_split(X, y, test_size=.3, random_state=123)\n",
    "\n",
    "X_train = X_train_s.values\n",
    "X_test = X_test_s.values\n",
    "\n",
    "# Create and fit the logistic regression model\n",
    "clf_gbt = xgb.XGBClassifier(base_score=0.5, booster='gbtree', colsample_bylevel=1,\n",
    "              colsample_bynode=1, colsample_bytree=0.5,\n",
    "              enable_categorical=False, gamma=0.1, gpu_id=-1,\n",
    "              importance_type=None, interaction_constraints='',\n",
    "              learning_rate=0.2, max_delta_step=0, max_depth=15,\n",
    "              min_child_weight=3, monotone_constraints='()',\n",
    "              n_estimators=100, n_jobs=4, num_parallel_tree=1, predictor='auto',\n",
    "              random_state=0, reg_alpha=0, reg_lambda=1, scale_pos_weight=1,\n",
    "              subsample=1, tree_method='exact', validate_parameters=1,\n",
    "              verbosity=None).fit(X_train, np.ravel(y_train))\n",
    "\n",
    "\n",
    "# Predict with a model\n",
    "gbt_preds = clf_gbt.predict_proba(X_test)\n",
    "\n"
   ]
  },
  {
   "cell_type": "code",
   "execution_count": 128,
   "metadata": {},
   "outputs": [
    {
     "name": "stdout",
     "output_type": "stream",
     "text": [
      "0    9507\n",
      "1    9091\n",
      "Name: Risk_Flag, dtype: int64\n",
      "              precision    recall  f1-score   support\n",
      "\n",
      " Non-Default       0.83      0.85      0.84      9290\n",
      "     Default       0.85      0.83      0.84      9308\n",
      "\n",
      "    accuracy                           0.84     18598\n",
      "   macro avg       0.84      0.84      0.84     18598\n",
      "weighted avg       0.84      0.84      0.84     18598\n",
      "\n"
     ]
    }
   ],
   "source": [
    "# Create a dataframe for the probabilities of default\n",
    "from sklearn.metrics import classification_report\n",
    "preds_df = pd.DataFrame(gbt_preds[:,1], columns = ['prob_default'])\n",
    "\n",
    "# Reassign loan status based on the threshold\n",
    "preds_df['Risk_Flag'] = preds_df['prob_default'].apply(lambda x: 1 if x > 0.5 else 0)\n",
    "\n",
    "# Print the row counts for each loan status\n",
    "print(preds_df['Risk_Flag'].value_counts())\n",
    "\n",
    "# Print the classification report\n",
    "target_names = ['Non-Default', 'Default']\n",
    "print(classification_report(y_test, preds_df['Risk_Flag'], target_names=target_names))"
   ]
  },
  {
   "cell_type": "code",
   "execution_count": 129,
   "metadata": {},
   "outputs": [
    {
     "name": "stdout",
     "output_type": "stream",
     "text": [
      "0.8982235208159192\n"
     ]
    },
    {
     "data": {
      "image/png": "[encoded data removed]",
      "text/plain": [
       "<Figure size 432x288 with 1 Axes>"
      ]
     },
     "metadata": {
      "needs_background": "light"
     },
     "output_type": "display_data"
    }
   ],
   "source": [
    "from sklearn.metrics import roc_curve\n",
    "from sklearn.metrics import roc_auc_score\n",
    "\n",
    "fallout_gbt, sensitivity_gbt, thresholds_gbt = roc_curve(y_test, gbt_preds[:,1])\n",
    "plt.plot(fallout_gbt, sensitivity_gbt, color='orange')\n",
    "plt.plot([0, 1], [0, 1], linestyle='--', label='%s' % 'Random Prediction')\n",
    "plt.title(\"ROC Chart for GBT on the Probability of Default\")\n",
    "plt.xlabel('Fall-out')\n",
    "plt.ylabel('Sensitivity')\n",
    "auc = roc_auc_score(y_test, gbt_preds[:,1])\n",
    "\n",
    "#print AUC score\n",
    "print(auc)"
   ]
  },
  {
   "cell_type": "markdown",
   "metadata": {},
   "source": [
    "# Model Deployment"
   ]
  },
  {
   "cell_type": "code",
   "execution_count": 215,
   "metadata": {},
   "outputs": [],
   "source": [
    "import pickle\n",
    "# open a file, where you want to store the data\n",
    "file = open('C:\\\\Users\\\\Ram Sudheer\\\\Prob_of_default\\\\pred_default_xgb.pkl', 'wb')\n",
    "\n",
    "# dump information to that file\n",
    "pickle.dump(clf_gbt, file)"
   ]
  },
  {
   "cell_type": "code",
   "execution_count": 217,
   "metadata": {},
   "outputs": [],
   "source": [
    "model = open('C:\\\\Users\\\\Ram Sudheer\\\\Prob_of_default\\\\pred_default_xgb.pkl','rb')\n",
    "predict_default = pickle.load(model)"
   ]
  }
 ],
 "metadata": {
  "kernelspec": {
   "display_name": "Python 3",
   "language": "python",
   "name": "python3"
  },
  "language_info": {
   "codemirror_mode": {
    "name": "ipython",
    "version": 3
   },
   "file_extension": ".py",
   "mimetype": "text/x-python",
   "name": "python",
   "nbconvert_exporter": "python",
   "pygments_lexer": "ipython3",
   "version": "3.8.5"
  }
 },
 "nbformat": 4,
 "nbformat_minor": 4
}
